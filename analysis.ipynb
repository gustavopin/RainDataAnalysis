{
 "cells": [
  {
   "cell_type": "code",
   "execution_count": 1,
   "id": "42cf172d-d9bf-4d59-aad6-629b76fb7cb9",
   "metadata": {},
   "outputs": [],
   "source": [
    "# importing libraries\n",
    "import pandas as pd\n",
    "import matplotlib as plt"
   ]
  },
  {
   "cell_type": "code",
   "execution_count": 6,
   "id": "dedc8741-56d2-4f97-a062-370b65754212",
   "metadata": {},
   "outputs": [],
   "source": [
    "# reading the csv file\n",
    "data = pd.read_csv('Data/rain_data.csv')"
   ]
  },
  {
   "cell_type": "code",
   "execution_count": 8,
   "id": "66f75afc-9579-4257-8423-c81e32d04ae0",
   "metadata": {},
   "outputs": [
    {
     "name": "stdout",
     "output_type": "stream",
     "text": [
      "    EstacaoCodigo;NivelConsistencia;Data;TipoMedicaoChuvas;Maxima;Total;DiaMaxima;NumDiasDeChuva;MaximaStatus;TotalStatus;NumDiasDeChuvaStatus;TotalAnual;TotalAnualStatus;Chuva01;Chuva02;Chuva03;Chuva04;Chuva05;Chuva06;Chuva07;Chuva08;Chuva09;Chuva10;Chuva11;Chuva12;Chuva13;Chuva14;Chuva15;Chuva16;Chuva17;Chuva18;Chuva19;Chuva20;Chuva21;Chuva22;Chuva23;Chuva24;Chuva25;Chuva26;Chuva27;Chuva28;Chuva29;Chuva30;Chuva31;Chuva01Status;Chuva02Status;Chuva03Status;Chuva04Status;Chuva05Status;Chuva06Status;Chuva07Status;Chuva08Status;Chuva09Status;Chuva10Status;Chuva11Status;Chuva12Status;Chuva13Status;Chuva14Status;Chuva15Status;Chuva16Status;Chuva17Status;Chuva18Status;Chuva19Status;Chuva20Status;Chuva21Status;Chuva22Status;Chuva23Status;Chuva24Status;Chuva25Status;Chuva26Status;Chuva27Status;Chuva28Status;Chuva29Status;Chuva30Status;Chuva31Status  \\\n",
      "0                            2247057;1;01/12/1980;1;39                                                                                                                                                                                                                                                                                                                                                                                                                                                                                                                                                                                                                                                                                                                                                                                                                                 \n",
      "1                            2247057;1;01/11/1980;1;44                                                                                                                                                                                                                                                                                                                                                                                                                                                                                                                                                                                                                                                                                                                                                                                                                                 \n",
      "2                            2247057;1;01/10/1980;1;31                                                                                                                                                                                                                                                                                                                                                                                                                                                                                                                                                                                                                                                                                                                                                                                                                                 \n",
      "3                            2247057;1;01/09/1980;1;34                                                                                                                                                                                                                                                                                                                                                                                                                                                                                                                                                                                                                                                                                                                                                                                                                                 \n",
      "4                            2247057;1;01/08/1980;1;12                                                                                                                                                                                                                                                                                                                                                                                                                                                                                                                                                                                                                                                                                                                                                                                                                                 \n",
      "..                                                 ...                                                                                                                                                                                                                                                                                                                                                                                                                                                                                                                                                                                                                                                                                                                                                                                                                                 \n",
      "697                           2247057;2;01/09/1951;1;3                                                                                                                                                                                                                                                                                                                                                                                                                                                                                                                                                                                                                                                                                                                                                                                                                                 \n",
      "698                          2247057;2;01/08/1951;1;15                                                                                                                                                                                                                                                                                                                                                                                                                                                                                                                                                                                                                                                                                                                                                                                                                                 \n",
      "699                           2247057;2;01/07/1951;1;8                                                                                                                                                                                                                                                                                                                                                                                                                                                                                                                                                                                                                                                                                                                                                                                                                                 \n",
      "700                           2247057;2;01/06/1951;1;7                                                                                                                                                                                                                                                                                                                                                                                                                                                                                                                                                                                                                                                                                                                                                                                                                                 \n",
      "701                           2247057;2;01/05/1951;1;6                                                                                                                                                                                                                                                                                                                                                                                                                                                                                                                                                                                                                                                                                                                                                                                                                                 \n",
      "\n",
      "    Unnamed: 1              Unnamed: 2 Unnamed: 3 Unnamed: 4 Unnamed: 5  \\\n",
      "0        6;273  2;6;19;1;1;0;1486;1;16       8;30        4;3       2;33   \n",
      "1        8;128   4;30;8;1;1;0;1486;1;0        0;0        0;0        0;0   \n",
      "2         2;60   2;27;3;1;1;0;1486;1;0        0;0        0;0        0;0   \n",
      "3         2;55   4;21;6;1;1;0;1486;1;0        0;0        0;0        0;0   \n",
      "4         8;38   6;16;6;1;1;0;1486;1;0        0;0        0;0        0;0   \n",
      "..         ...                     ...        ...        ...        ...   \n",
      "697        3;6       0;27;2;1;1;0;;0;0        0;0        0;0        0;0   \n",
      "698       8;24       0;22;6;1;1;0;;0;0        0;0        0;0        0;0   \n",
      "699       8;12        3;5;2;1;1;0;;0;0        0;0        0;0        0;0   \n",
      "700        4;9       8;29;4;1;1;0;;0;0        0;0        0;0        0;0   \n",
      "701       1;13       7;19;6;1;1;0;;0;0        0;0        0;0        3;0   \n",
      "\n",
      "    Unnamed: 6 Unnamed: 7 Unnamed: 8 Unnamed: 9  ... Unnamed: 25 Unnamed: 26  \\\n",
      "0         4;11       2;39        6;4        6;0  ...         2;0         0;0   \n",
      "1          0;0        0;0        0;0       0;19  ...         0;8         2;7   \n",
      "2          0;0        0;0        0;0        0;2  ...         0;0         0;0   \n",
      "3          0;0        0;0        0;0        0;0  ...         0;0         0;0   \n",
      "4          0;0        0;0        0;4        4;0  ...         2;0         0;0   \n",
      "..         ...        ...        ...        ...  ...         ...         ...   \n",
      "697        0;0        0;0        0;0        0;0  ...         0;0         0;0   \n",
      "698        0;2        5;0        5;0        0;0  ...         5;0         3;0   \n",
      "699        0;8        8;0        0;0        0;3  ...         0;0         0;0   \n",
      "700        0;0        0;0        0;1        3;0  ...         0;0         0;0   \n",
      "701        8;0        0;0        0;0        0;0  ...         0;0         0;0   \n",
      "\n",
      "    Unnamed: 27 Unnamed: 28 Unnamed: 29 Unnamed: 30 Unnamed: 31  \\\n",
      "0           0;0        0;29         2;3         8;4         0;4   \n",
      "1           4;0         0;0         0;0         0;1        0;44   \n",
      "2           0;0        0;31         2;0         0;0         0;0   \n",
      "3           0;0         0;0         0;3         0;0         0;0   \n",
      "4           0;3         8;8         8;0         0;0         0;0   \n",
      "..          ...         ...         ...         ...         ...   \n",
      "697         0;0         0;3         3;0         0;0         0;0   \n",
      "698         0;0         0;0         0;0         0;2         4;0   \n",
      "699         0;0         0;0         0;0         0;0         0;0   \n",
      "700         0;0         1;1         0;0         0;7         4;0   \n",
      "701         0;0         0;0         0;0         0;0         5;5   \n",
      "\n",
      "                                           Unnamed: 32  \\\n",
      "0                                                  8;0   \n",
      "1    8;;1;1;1;1;1;1;1;1;1;1;1;1;1;1;1;1;1;1;1;1;1;1...   \n",
      "2                                                  0;0   \n",
      "3    0;;1;1;1;1;1;1;1;1;1;1;1;1;1;1;1;1;1;1;1;1;1;1...   \n",
      "4                                                  0;0   \n",
      "..                                                 ...   \n",
      "697  0;;1;1;1;1;1;1;1;1;1;1;1;1;1;1;1;1;1;1;1;1;1;1...   \n",
      "698                                                0;0   \n",
      "699                                                0;0   \n",
      "700  0;;1;1;1;1;1;1;1;1;1;1;1;1;1;1;1;1;1;1;1;1;1;1...   \n",
      "701                                                9;0   \n",
      "\n",
      "                                           Unnamed: 33 Unnamed: 34  \n",
      "0    0;1;1;1;1;1;1;1;1;1;1;1;1;1;1;1;1;1;1;1;1;1;1;...         NaN  \n",
      "1                                                  NaN         NaN  \n",
      "2    0;1;1;1;1;1;1;1;1;1;1;1;1;1;1;1;1;1;1;1;1;1;1;...         NaN  \n",
      "3                                                  NaN         NaN  \n",
      "4    0;1;1;1;1;1;1;1;1;1;1;1;1;1;1;1;1;1;1;1;1;1;1;...         NaN  \n",
      "..                                                 ...         ...  \n",
      "697                                                NaN         NaN  \n",
      "698  0;1;1;1;1;1;1;1;1;1;1;1;1;1;1;1;1;1;1;1;1;1;1;...         NaN  \n",
      "699  0;1;1;1;1;1;1;1;1;1;1;1;1;1;1;1;1;1;1;1;1;1;1;...         NaN  \n",
      "700                                                NaN         NaN  \n",
      "701  1;1;1;1;1;1;1;1;1;1;1;1;1;1;1;1;1;1;1;1;1;1;1;...         NaN  \n",
      "\n",
      "[702 rows x 35 columns]\n"
     ]
    }
   ],
   "source": [
    "print(data)"
   ]
  },
  {
   "cell_type": "code",
   "execution_count": null,
   "id": "f5655b01-e085-4d93-be5e-58b09991b455",
   "metadata": {},
   "outputs": [],
   "source": []
  }
 ],
 "metadata": {
  "kernelspec": {
   "display_name": "Python 3 (ipykernel)",
   "language": "python",
   "name": "python3"
  },
  "language_info": {
   "codemirror_mode": {
    "name": "ipython",
    "version": 3
   },
   "file_extension": ".py",
   "mimetype": "text/x-python",
   "name": "python",
   "nbconvert_exporter": "python",
   "pygments_lexer": "ipython3",
   "version": "3.10.9"
  }
 },
 "nbformat": 4,
 "nbformat_minor": 5
}
