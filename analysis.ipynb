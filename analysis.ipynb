{
 "cells": [
  {
   "cell_type": "code",
   "execution_count": 77,
   "id": "42cf172d-d9bf-4d59-aad6-629b76fb7cb9",
   "metadata": {},
   "outputs": [],
   "source": [
    "# importing libraries\n",
    "import pandas as pd\n",
    "import matplotlib.pyplot as plt\n",
    "import math\n",
    "from datetime import datetime\n",
    "import statistics"
   ]
  },
  {
   "cell_type": "code",
   "execution_count": 78,
   "id": "dedc8741-56d2-4f97-a062-370b65754212",
   "metadata": {},
   "outputs": [],
   "source": [
    "# reading the csv file\n",
    "data = pd.read_csv('Data/station_data.csv')\n",
    "\n",
    "# testing the read command\n",
    "#print(data)"
   ]
  },
  {
   "cell_type": "code",
   "execution_count": 79,
   "id": "66f75afc-9579-4257-8423-c81e32d04ae0",
   "metadata": {},
   "outputs": [],
   "source": [
    "# inserting data to lists\n",
    "dates = data['Data'].tolist()\n",
    "time = data['Hora (UTC)'].tolist()\n",
    "temp_inst = data['Temp. Ins. (C)'].tolist()\n",
    "temp_max = data['Temp. Max. (C)'].tolist()\n",
    "temp_min = data['Temp. Min. (C)'].fillna(0).tolist()\n",
    "umidity_inst = data['Umi. Ins. (%)'].tolist()\n",
    "umidity_max = data['Umi. Max. (%)'].tolist()\n",
    "umidity_min = data['Umi. Min. (%)'].tolist()\n",
    "dew_inst = data['Pto Orvalho Ins. (C)'].tolist()\n",
    "dew_max = data['Pto Orvalho Max. (C)'].tolist()\n",
    "dew_min = data['Pto Orvalho Min. (C)'].tolist()\n",
    "pressure_inst = data['Pressao Ins. (hPa)'].tolist()\n",
    "pressure_max = data['Pressao Max. (hPa)'].tolist()\n",
    "pressure_min = data['Pressao Min. (hPa)'].tolist()\n",
    "wind_speed = data['Vel. Vento (m/s)'].tolist()\n",
    "wind_dir = data['Dir. Vento (m/s)'].tolist()\n",
    "wind_gust = data['Raj. Vento (m/s)'].tolist()\n",
    "radiation = data['Radiacao (KJ/m²)'].tolist()\n",
    "precip = data['Chuva (mm)'].fillna(0).tolist()"
   ]
  },
  {
   "cell_type": "code",
   "execution_count": 84,
   "id": "f5655b01-e085-4d93-be5e-58b09991b455",
   "metadata": {},
   "outputs": [
    {
     "name": "stdout",
     "output_type": "stream",
     "text": [
      "Total Annual Preciptation: 631.40 mm\n",
      "Daily Average Precipitation: 1.73 mm\n",
      "\n",
      "{'01/2022': 235.60000000000008, '02/2022': 80.4, '03/2022': 9.6, '04/2022': 0.0, '05/2022': 7.400000000000002, '06/2022': 1.7999999999999998, '07/2022': 0.0, '08/2022': 10.59999999999999, '09/2022': 2.6, '10/2022': 75.60000000000001, '11/2022': 23.4, '12/2022': 184.39999999999986}\n"
     ]
    }
   ],
   "source": [
    "# Total annual preciptation\n",
    "annual_precip = sum(precip)\n",
    "print(f'Total Annual Preciptation: {annual_precip:.2f} mm')\n",
    "\n",
    "# Daily average of precipitation\n",
    "daily_aver_precip = annual_precip / 365\n",
    "print(f'Daily Average Precipitation: {daily_aver_precip:.2f} mm\\n')\n",
    "\n",
    "\n",
    "# Monthly precipitation graph throughout the year\n",
    "monthly_precip = {}\n",
    "for i in range(len(dates)):\n",
    "    date = datetime.strptime(dates[i], '%d/%m/%Y')\n",
    "    month = date.strftime('%m/%Y')\n",
    "    if month in monthly_precip:\n",
    "        monthly_precip[month] += precip[i]\n",
    "    else:\n",
    "        monthly_precip[month] = precip[i]\n",
    "\n",
    "print(monthly_precip)"
   ]
  },
  {
   "cell_type": "code",
   "execution_count": null,
   "id": "448340ff-4a8a-4bf7-a0d2-33cd9c663cb4",
   "metadata": {},
   "outputs": [],
   "source": []
  }
 ],
 "metadata": {
  "kernelspec": {
   "display_name": "Python 3 (ipykernel)",
   "language": "python",
   "name": "python3"
  },
  "language_info": {
   "codemirror_mode": {
    "name": "ipython",
    "version": 3
   },
   "file_extension": ".py",
   "mimetype": "text/x-python",
   "name": "python",
   "nbconvert_exporter": "python",
   "pygments_lexer": "ipython3",
   "version": "3.10.9"
  }
 },
 "nbformat": 4,
 "nbformat_minor": 5
}
